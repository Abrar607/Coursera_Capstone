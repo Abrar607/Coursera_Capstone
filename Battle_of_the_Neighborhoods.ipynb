{
    "cells": [
        {
            "cell_type": "markdown",
            "metadata": {},
            "source": "# Battle of the Neighborhoods (Week 1) :"
        },
        {
            "cell_type": "markdown",
            "metadata": {},
            "source": "## Introduction Section: Business Problem "
        },
        {
            "cell_type": "markdown",
            "metadata": {},
            "source": "Many entertainment companies seek out the success of their movies as well as revenue for the movie theaters broadcasting those movies. Therefore, the location of cinemas as well as the taste of individuals and their capability to watch movies and afford them contributes to the success of cinemas as a business and the entertainment inductry as a whole.\n\nFor this project, I will be scouting the ideal location for a new **movie theater** to be established in Toronto, Canada and how to explore that using different approaches.  "
        },
        {
            "cell_type": "markdown",
            "metadata": {},
            "source": "The target audience would be **movie theater owners and companies.** I will determine where the best location is for a new cinema could be established whether the theater is part of a branch or a stand-alone small business."
        },
        {
            "cell_type": "markdown",
            "metadata": {},
            "source": "## Data Section:"
        },
        {
            "cell_type": "markdown",
            "metadata": {},
            "source": "In analysing this data, I will be looking at the area's ddensity when it comes to movie theaters and the probability of success based on the number of theaters nearby as well as the target demographic.\n\nFor this analysis, I will be using the following:\n - Foursquare data for to determine the existence of venues.\n - Income data as well as population data of Toronto, Canada.\n\nData will be **collected** from **Foursquare** and the population data will be taken from the **census website for the Canadian Government**. This website contains datasets with information about each city in Canada such as demographic and socioeconomic information of the population divided based on neighborhoods and boroughs facilitating its use. The citations will be listed for both datasets in a future section. Maps will be used to best visualize patterns and create models. \n\n**To understand the data more**, I will explore the different variants affecting the success of a movie theater in a city and specify for Toronto in particular. This will be by looking at the similarities between the existing cinemas and looking at population as well as income to determine their effect on location determination for the new movie theater. \n\n**For example**, the census comprises of incomes based on neighborhoods that can be matched to Foursquare data mapping the existence or the presence of a movie theater and the frequency. By looking at other areas, the prediction for the new location will be more accurate not only in terms of location but also in terms of success in that region with regards to demographic and socioeconomic factors."
        },
        {
            "cell_type": "code",
            "execution_count": null,
            "metadata": {},
            "outputs": [],
            "source": ""
        }
    ],
    "metadata": {
        "kernelspec": {
            "display_name": "Python 3",
            "language": "python",
            "name": "python3"
        },
        "language_info": {
            "codemirror_mode": {
                "name": "ipython",
                "version": 3
            },
            "file_extension": ".py",
            "mimetype": "text/x-python",
            "name": "python",
            "nbconvert_exporter": "python",
            "pygments_lexer": "ipython3",
            "version": "3.7.4"
        }
    },
    "nbformat": 4,
    "nbformat_minor": 2
}